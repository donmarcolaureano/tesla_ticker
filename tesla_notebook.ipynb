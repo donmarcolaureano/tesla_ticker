{
 "cells": [
  {
   "cell_type": "code",
   "execution_count": 1,
   "id": "fb040a2b-6109-48ef-b178-bf80fea3be46",
   "metadata": {
    "tags": []
   },
   "outputs": [],
   "source": [
    "# imports\n",
    "import pandas as pd\n",
    "import numpy as np\n",
    "import datetime as dt"
   ]
  },
  {
   "cell_type": "code",
   "execution_count": 2,
   "id": "b0ff3044-1457-409e-ae0a-fe569a1ca9bc",
   "metadata": {
    "tags": []
   },
   "outputs": [],
   "source": [
    "# data\n",
    "tesla_data = pd.read_csv('/Users/marcolaureano2/Documents/GitHub/tesla_ticker/data/tesla_stock_data.csv')"
   ]
  },
  {
   "cell_type": "code",
   "execution_count": 3,
   "id": "b7e54ffe-1526-42b9-bc12-7dd890804240",
   "metadata": {
    "tags": []
   },
   "outputs": [
    {
     "data": {
      "text/html": [
       "<div>\n",
       "<style scoped>\n",
       "    .dataframe tbody tr th:only-of-type {\n",
       "        vertical-align: middle;\n",
       "    }\n",
       "\n",
       "    .dataframe tbody tr th {\n",
       "        vertical-align: top;\n",
       "    }\n",
       "\n",
       "    .dataframe thead th {\n",
       "        text-align: right;\n",
       "    }\n",
       "</style>\n",
       "<table border=\"1\" class=\"dataframe\">\n",
       "  <thead>\n",
       "    <tr style=\"text-align: right;\">\n",
       "      <th></th>\n",
       "      <th>Date</th>\n",
       "      <th>Year</th>\n",
       "      <th>Open</th>\n",
       "      <th>High</th>\n",
       "      <th>Low</th>\n",
       "      <th>Close</th>\n",
       "      <th>Volume</th>\n",
       "      <th>Adj Close</th>\n",
       "    </tr>\n",
       "  </thead>\n",
       "  <tbody>\n",
       "    <tr>\n",
       "      <th>0</th>\n",
       "      <td>2020-01-02</td>\n",
       "      <td>2020</td>\n",
       "      <td>28.299999</td>\n",
       "      <td>28.713333</td>\n",
       "      <td>28.114000</td>\n",
       "      <td>28.684000</td>\n",
       "      <td>142981500</td>\n",
       "      <td>28.684000</td>\n",
       "    </tr>\n",
       "    <tr>\n",
       "      <th>1</th>\n",
       "      <td>2020-01-03</td>\n",
       "      <td>2020</td>\n",
       "      <td>29.366667</td>\n",
       "      <td>30.266666</td>\n",
       "      <td>29.128000</td>\n",
       "      <td>29.534000</td>\n",
       "      <td>266677500</td>\n",
       "      <td>29.534000</td>\n",
       "    </tr>\n",
       "    <tr>\n",
       "      <th>2</th>\n",
       "      <td>2020-01-06</td>\n",
       "      <td>2020</td>\n",
       "      <td>29.364668</td>\n",
       "      <td>30.104000</td>\n",
       "      <td>29.333332</td>\n",
       "      <td>30.102667</td>\n",
       "      <td>151995000</td>\n",
       "      <td>30.102667</td>\n",
       "    </tr>\n",
       "    <tr>\n",
       "      <th>3</th>\n",
       "      <td>2020-01-07</td>\n",
       "      <td>2020</td>\n",
       "      <td>30.760000</td>\n",
       "      <td>31.441999</td>\n",
       "      <td>30.224001</td>\n",
       "      <td>31.270666</td>\n",
       "      <td>268231500</td>\n",
       "      <td>31.270666</td>\n",
       "    </tr>\n",
       "    <tr>\n",
       "      <th>4</th>\n",
       "      <td>2020-01-08</td>\n",
       "      <td>2020</td>\n",
       "      <td>31.580000</td>\n",
       "      <td>33.232666</td>\n",
       "      <td>31.215334</td>\n",
       "      <td>32.809334</td>\n",
       "      <td>467164500</td>\n",
       "      <td>32.809334</td>\n",
       "    </tr>\n",
       "    <tr>\n",
       "      <th>...</th>\n",
       "      <td>...</td>\n",
       "      <td>...</td>\n",
       "      <td>...</td>\n",
       "      <td>...</td>\n",
       "      <td>...</td>\n",
       "      <td>...</td>\n",
       "      <td>...</td>\n",
       "      <td>...</td>\n",
       "    </tr>\n",
       "    <tr>\n",
       "      <th>991</th>\n",
       "      <td>2023-12-22</td>\n",
       "      <td>2023</td>\n",
       "      <td>256.760010</td>\n",
       "      <td>258.220001</td>\n",
       "      <td>251.369995</td>\n",
       "      <td>252.539993</td>\n",
       "      <td>93249800</td>\n",
       "      <td>252.539993</td>\n",
       "    </tr>\n",
       "    <tr>\n",
       "      <th>992</th>\n",
       "      <td>2023-12-26</td>\n",
       "      <td>2023</td>\n",
       "      <td>254.490005</td>\n",
       "      <td>257.970001</td>\n",
       "      <td>252.910004</td>\n",
       "      <td>256.609985</td>\n",
       "      <td>86892400</td>\n",
       "      <td>256.609985</td>\n",
       "    </tr>\n",
       "    <tr>\n",
       "      <th>993</th>\n",
       "      <td>2023-12-27</td>\n",
       "      <td>2023</td>\n",
       "      <td>258.350006</td>\n",
       "      <td>263.339996</td>\n",
       "      <td>257.519989</td>\n",
       "      <td>261.440002</td>\n",
       "      <td>106494400</td>\n",
       "      <td>261.440002</td>\n",
       "    </tr>\n",
       "    <tr>\n",
       "      <th>994</th>\n",
       "      <td>2023-12-28</td>\n",
       "      <td>2023</td>\n",
       "      <td>263.660004</td>\n",
       "      <td>265.130005</td>\n",
       "      <td>252.710007</td>\n",
       "      <td>253.179993</td>\n",
       "      <td>113619900</td>\n",
       "      <td>253.179993</td>\n",
       "    </tr>\n",
       "    <tr>\n",
       "      <th>995</th>\n",
       "      <td>2023-12-29</td>\n",
       "      <td>2023</td>\n",
       "      <td>255.100006</td>\n",
       "      <td>255.190002</td>\n",
       "      <td>247.429993</td>\n",
       "      <td>248.479996</td>\n",
       "      <td>100615300</td>\n",
       "      <td>248.479996</td>\n",
       "    </tr>\n",
       "  </tbody>\n",
       "</table>\n",
       "<p>996 rows × 8 columns</p>\n",
       "</div>"
      ],
      "text/plain": [
       "           Date  Year        Open        High         Low       Close  \\\n",
       "0    2020-01-02  2020   28.299999   28.713333   28.114000   28.684000   \n",
       "1    2020-01-03  2020   29.366667   30.266666   29.128000   29.534000   \n",
       "2    2020-01-06  2020   29.364668   30.104000   29.333332   30.102667   \n",
       "3    2020-01-07  2020   30.760000   31.441999   30.224001   31.270666   \n",
       "4    2020-01-08  2020   31.580000   33.232666   31.215334   32.809334   \n",
       "..          ...   ...         ...         ...         ...         ...   \n",
       "991  2023-12-22  2023  256.760010  258.220001  251.369995  252.539993   \n",
       "992  2023-12-26  2023  254.490005  257.970001  252.910004  256.609985   \n",
       "993  2023-12-27  2023  258.350006  263.339996  257.519989  261.440002   \n",
       "994  2023-12-28  2023  263.660004  265.130005  252.710007  253.179993   \n",
       "995  2023-12-29  2023  255.100006  255.190002  247.429993  248.479996   \n",
       "\n",
       "        Volume   Adj Close  \n",
       "0    142981500   28.684000  \n",
       "1    266677500   29.534000  \n",
       "2    151995000   30.102667  \n",
       "3    268231500   31.270666  \n",
       "4    467164500   32.809334  \n",
       "..         ...         ...  \n",
       "991   93249800  252.539993  \n",
       "992   86892400  256.609985  \n",
       "993  106494400  261.440002  \n",
       "994  113619900  253.179993  \n",
       "995  100615300  248.479996  \n",
       "\n",
       "[996 rows x 8 columns]"
      ]
     },
     "execution_count": 3,
     "metadata": {},
     "output_type": "execute_result"
    }
   ],
   "source": [
    "tesla_data"
   ]
  },
  {
   "cell_type": "code",
   "execution_count": 4,
   "id": "a96e7054-6160-430a-b5e3-237ba6e86f69",
   "metadata": {
    "tags": []
   },
   "outputs": [
    {
     "data": {
      "text/html": [
       "<div>\n",
       "<style scoped>\n",
       "    .dataframe tbody tr th:only-of-type {\n",
       "        vertical-align: middle;\n",
       "    }\n",
       "\n",
       "    .dataframe tbody tr th {\n",
       "        vertical-align: top;\n",
       "    }\n",
       "\n",
       "    .dataframe thead th {\n",
       "        text-align: right;\n",
       "    }\n",
       "</style>\n",
       "<table border=\"1\" class=\"dataframe\">\n",
       "  <thead>\n",
       "    <tr style=\"text-align: right;\">\n",
       "      <th></th>\n",
       "      <th>Year</th>\n",
       "      <th>Open</th>\n",
       "      <th>High</th>\n",
       "      <th>Low</th>\n",
       "      <th>Close</th>\n",
       "      <th>Volume</th>\n",
       "      <th>Adj Close</th>\n",
       "    </tr>\n",
       "    <tr>\n",
       "      <th>Date</th>\n",
       "      <th></th>\n",
       "      <th></th>\n",
       "      <th></th>\n",
       "      <th></th>\n",
       "      <th></th>\n",
       "      <th></th>\n",
       "      <th></th>\n",
       "    </tr>\n",
       "  </thead>\n",
       "  <tbody>\n",
       "    <tr>\n",
       "      <th>2020-01-02</th>\n",
       "      <td>2020</td>\n",
       "      <td>28.299999</td>\n",
       "      <td>28.713333</td>\n",
       "      <td>28.114000</td>\n",
       "      <td>28.684000</td>\n",
       "      <td>142981500</td>\n",
       "      <td>28.684000</td>\n",
       "    </tr>\n",
       "    <tr>\n",
       "      <th>2020-01-03</th>\n",
       "      <td>2020</td>\n",
       "      <td>29.366667</td>\n",
       "      <td>30.266666</td>\n",
       "      <td>29.128000</td>\n",
       "      <td>29.534000</td>\n",
       "      <td>266677500</td>\n",
       "      <td>29.534000</td>\n",
       "    </tr>\n",
       "    <tr>\n",
       "      <th>2020-01-06</th>\n",
       "      <td>2020</td>\n",
       "      <td>29.364668</td>\n",
       "      <td>30.104000</td>\n",
       "      <td>29.333332</td>\n",
       "      <td>30.102667</td>\n",
       "      <td>151995000</td>\n",
       "      <td>30.102667</td>\n",
       "    </tr>\n",
       "    <tr>\n",
       "      <th>2020-01-07</th>\n",
       "      <td>2020</td>\n",
       "      <td>30.760000</td>\n",
       "      <td>31.441999</td>\n",
       "      <td>30.224001</td>\n",
       "      <td>31.270666</td>\n",
       "      <td>268231500</td>\n",
       "      <td>31.270666</td>\n",
       "    </tr>\n",
       "    <tr>\n",
       "      <th>2020-01-08</th>\n",
       "      <td>2020</td>\n",
       "      <td>31.580000</td>\n",
       "      <td>33.232666</td>\n",
       "      <td>31.215334</td>\n",
       "      <td>32.809334</td>\n",
       "      <td>467164500</td>\n",
       "      <td>32.809334</td>\n",
       "    </tr>\n",
       "    <tr>\n",
       "      <th>...</th>\n",
       "      <td>...</td>\n",
       "      <td>...</td>\n",
       "      <td>...</td>\n",
       "      <td>...</td>\n",
       "      <td>...</td>\n",
       "      <td>...</td>\n",
       "      <td>...</td>\n",
       "    </tr>\n",
       "    <tr>\n",
       "      <th>2023-12-22</th>\n",
       "      <td>2023</td>\n",
       "      <td>256.760010</td>\n",
       "      <td>258.220001</td>\n",
       "      <td>251.369995</td>\n",
       "      <td>252.539993</td>\n",
       "      <td>93249800</td>\n",
       "      <td>252.539993</td>\n",
       "    </tr>\n",
       "    <tr>\n",
       "      <th>2023-12-26</th>\n",
       "      <td>2023</td>\n",
       "      <td>254.490005</td>\n",
       "      <td>257.970001</td>\n",
       "      <td>252.910004</td>\n",
       "      <td>256.609985</td>\n",
       "      <td>86892400</td>\n",
       "      <td>256.609985</td>\n",
       "    </tr>\n",
       "    <tr>\n",
       "      <th>2023-12-27</th>\n",
       "      <td>2023</td>\n",
       "      <td>258.350006</td>\n",
       "      <td>263.339996</td>\n",
       "      <td>257.519989</td>\n",
       "      <td>261.440002</td>\n",
       "      <td>106494400</td>\n",
       "      <td>261.440002</td>\n",
       "    </tr>\n",
       "    <tr>\n",
       "      <th>2023-12-28</th>\n",
       "      <td>2023</td>\n",
       "      <td>263.660004</td>\n",
       "      <td>265.130005</td>\n",
       "      <td>252.710007</td>\n",
       "      <td>253.179993</td>\n",
       "      <td>113619900</td>\n",
       "      <td>253.179993</td>\n",
       "    </tr>\n",
       "    <tr>\n",
       "      <th>2023-12-29</th>\n",
       "      <td>2023</td>\n",
       "      <td>255.100006</td>\n",
       "      <td>255.190002</td>\n",
       "      <td>247.429993</td>\n",
       "      <td>248.479996</td>\n",
       "      <td>100615300</td>\n",
       "      <td>248.479996</td>\n",
       "    </tr>\n",
       "  </tbody>\n",
       "</table>\n",
       "<p>996 rows × 7 columns</p>\n",
       "</div>"
      ],
      "text/plain": [
       "            Year        Open        High         Low       Close     Volume  \\\n",
       "Date                                                                          \n",
       "2020-01-02  2020   28.299999   28.713333   28.114000   28.684000  142981500   \n",
       "2020-01-03  2020   29.366667   30.266666   29.128000   29.534000  266677500   \n",
       "2020-01-06  2020   29.364668   30.104000   29.333332   30.102667  151995000   \n",
       "2020-01-07  2020   30.760000   31.441999   30.224001   31.270666  268231500   \n",
       "2020-01-08  2020   31.580000   33.232666   31.215334   32.809334  467164500   \n",
       "...          ...         ...         ...         ...         ...        ...   \n",
       "2023-12-22  2023  256.760010  258.220001  251.369995  252.539993   93249800   \n",
       "2023-12-26  2023  254.490005  257.970001  252.910004  256.609985   86892400   \n",
       "2023-12-27  2023  258.350006  263.339996  257.519989  261.440002  106494400   \n",
       "2023-12-28  2023  263.660004  265.130005  252.710007  253.179993  113619900   \n",
       "2023-12-29  2023  255.100006  255.190002  247.429993  248.479996  100615300   \n",
       "\n",
       "             Adj Close  \n",
       "Date                    \n",
       "2020-01-02   28.684000  \n",
       "2020-01-03   29.534000  \n",
       "2020-01-06   30.102667  \n",
       "2020-01-07   31.270666  \n",
       "2020-01-08   32.809334  \n",
       "...                ...  \n",
       "2023-12-22  252.539993  \n",
       "2023-12-26  256.609985  \n",
       "2023-12-27  261.440002  \n",
       "2023-12-28  253.179993  \n",
       "2023-12-29  248.479996  \n",
       "\n",
       "[996 rows x 7 columns]"
      ]
     },
     "execution_count": 4,
     "metadata": {},
     "output_type": "execute_result"
    }
   ],
   "source": [
    "tesla_data = tesla_data.set_index(['Date'])\n",
    "tesla_data"
   ]
  },
  {
   "cell_type": "code",
   "execution_count": 5,
   "id": "3d797d5d-661a-4d3e-8399-f80967b5f1db",
   "metadata": {
    "tags": []
   },
   "outputs": [
    {
     "name": "stdout",
     "output_type": "stream",
     "text": [
      "<class 'pandas.core.frame.DataFrame'>\n",
      "Index: 996 entries, 2020-01-02 to 2023-12-29\n",
      "Data columns (total 7 columns):\n",
      " #   Column     Non-Null Count  Dtype  \n",
      "---  ------     --------------  -----  \n",
      " 0   Year       996 non-null    int64  \n",
      " 1   Open       996 non-null    float64\n",
      " 2   High       996 non-null    float64\n",
      " 3   Low        996 non-null    float64\n",
      " 4   Close      996 non-null    float64\n",
      " 5   Volume     996 non-null    int64  \n",
      " 6   Adj Close  996 non-null    float64\n",
      "dtypes: float64(5), int64(2)\n",
      "memory usage: 62.2+ KB\n"
     ]
    }
   ],
   "source": [
    "tesla_data.info()"
   ]
  },
  {
   "cell_type": "markdown",
   "id": "d72b22c3-6394-4847-877f-224dc5035ffd",
   "metadata": {},
   "source": [
    "## eda"
   ]
  },
  {
   "cell_type": "code",
   "execution_count": null,
   "id": "a4afb393-f1ba-4aef-acab-2f14b715af33",
   "metadata": {},
   "outputs": [],
   "source": []
  },
  {
   "cell_type": "code",
   "execution_count": 7,
   "id": "1b1986d3-fca4-4ccc-9e96-2e1f35f771c8",
   "metadata": {
    "tags": []
   },
   "outputs": [
    {
     "data": {
      "text/plain": [
       "array([2020, 2021, 2022, 2023])"
      ]
     },
     "execution_count": 7,
     "metadata": {},
     "output_type": "execute_result"
    }
   ],
   "source": [
    "tesla_data['Year'].unique()"
   ]
  },
  {
   "cell_type": "code",
   "execution_count": null,
   "id": "7f44e7f9-aea9-47ad-b14b-a4fe1be83362",
   "metadata": {},
   "outputs": [],
   "source": []
  },
  {
   "cell_type": "code",
   "execution_count": 8,
   "id": "4f30fd5a-748f-438c-95ce-fd8a19c5a691",
   "metadata": {
    "tags": []
   },
   "outputs": [
    {
     "data": {
      "text/plain": [
       "24.979999542236328"
      ]
     },
     "execution_count": 8,
     "metadata": {},
     "output_type": "execute_result"
    }
   ],
   "source": [
    "tesla_data['Open'].min()"
   ]
  },
  {
   "cell_type": "code",
   "execution_count": 9,
   "id": "5666b90d-43df-4086-91ca-a0ef732f1e17",
   "metadata": {
    "tags": []
   },
   "outputs": [
    {
     "data": {
      "text/plain": [
       "411.4700012207031"
      ]
     },
     "execution_count": 9,
     "metadata": {},
     "output_type": "execute_result"
    }
   ],
   "source": [
    "tesla_data['Open'].max()"
   ]
  },
  {
   "cell_type": "code",
   "execution_count": null,
   "id": "32bc5ec4-3bdb-45d7-a7f9-1add283eb42f",
   "metadata": {},
   "outputs": [],
   "source": []
  },
  {
   "cell_type": "code",
   "execution_count": 10,
   "id": "ec74f821-e118-4993-bfeb-46e054b890ec",
   "metadata": {
    "tags": []
   },
   "outputs": [
    {
     "data": {
      "text/plain": [
       "26.99066734313965"
      ]
     },
     "execution_count": 10,
     "metadata": {},
     "output_type": "execute_result"
    }
   ],
   "source": [
    "tesla_data['High'].min()"
   ]
  },
  {
   "cell_type": "code",
   "execution_count": 11,
   "id": "dda8c952-fe28-40a1-8ed3-a0dea00096ed",
   "metadata": {
    "tags": []
   },
   "outputs": [
    {
     "data": {
      "text/plain": [
       "414.4966735839844"
      ]
     },
     "execution_count": 11,
     "metadata": {},
     "output_type": "execute_result"
    }
   ],
   "source": [
    "tesla_data['High'].max()"
   ]
  },
  {
   "cell_type": "code",
   "execution_count": null,
   "id": "211ce9b9-164b-4250-b104-94b2d7a5fe22",
   "metadata": {},
   "outputs": [],
   "source": []
  },
  {
   "cell_type": "code",
   "execution_count": 12,
   "id": "fd9888c1-bdc6-4c90-ba94-7590b4cef84b",
   "metadata": {
    "tags": []
   },
   "outputs": [
    {
     "data": {
      "text/plain": [
       "23.367332458496094"
      ]
     },
     "execution_count": 12,
     "metadata": {},
     "output_type": "execute_result"
    }
   ],
   "source": [
    "tesla_data['Low'].min()"
   ]
  },
  {
   "cell_type": "code",
   "execution_count": 13,
   "id": "c0c41af8-06b1-44c8-a462-0a6d2fa0c666",
   "metadata": {
    "tags": []
   },
   "outputs": [
    {
     "data": {
      "text/plain": [
       "405.6666564941406"
      ]
     },
     "execution_count": 13,
     "metadata": {},
     "output_type": "execute_result"
    }
   ],
   "source": [
    "tesla_data['Low'].max()"
   ]
  }
 ],
 "metadata": {
  "kernelspec": {
   "display_name": "Python (dojo-env)",
   "language": "python",
   "name": "dojo-env"
  },
  "language_info": {
   "codemirror_mode": {
    "name": "ipython",
    "version": 3
   },
   "file_extension": ".py",
   "mimetype": "text/x-python",
   "name": "python",
   "nbconvert_exporter": "python",
   "pygments_lexer": "ipython3",
   "version": "3.10.10"
  },
  "widgets": {
   "application/vnd.jupyter.widget-state+json": {
    "state": {},
    "version_major": 2,
    "version_minor": 0
   }
  }
 },
 "nbformat": 4,
 "nbformat_minor": 5
}
